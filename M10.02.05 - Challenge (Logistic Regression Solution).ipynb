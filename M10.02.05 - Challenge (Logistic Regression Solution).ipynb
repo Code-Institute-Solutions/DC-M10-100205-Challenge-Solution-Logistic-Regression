{
 "cells": [
  {
   "cell_type": "markdown",
   "id": "2e42d166-091b-40a6-82cd-869f2a3ec565",
   "metadata": {},
   "source": [
    "# **Logistic Regression: Predicting Loan Approval**\n",
    "\n",
    "## Scenario\n",
    "You are a data scientist at a financial institution tasked with developing a model to predict loan approval status. The insights derived from this model will help streamline the loan application process, ensuring faster and more accurate decisions.\n",
    "\n",
    "## Dataset Overview\n",
    "The dataset includes the following columns:\n",
    "- `Gender`: Gender of the applicant (`1` for male, `0` for female).\n",
    "- `Married`: Marital status (`1` for married, `0` for unmarried).\n",
    "- `Dependents`: Number of dependents the applicant has.\n",
    "- `Education`: Educational status (`1` for graduate, `0` for not graduate).\n",
    "- `Self_Employed`: Employment status (`1` for self-employed, `0` for not self-employed).\n",
    "- `ApplicantIncome`: Income of the primary applicant.\n",
    "- `CoapplicantIncome`: Income of the co-applicant.\n",
    "- `LoanAmount`: Loan amount requested (in thousands).\n",
    "- `Loan_Amount_Term`: Term of the loan (in days).\n",
    "- `Credit_History`: Credit history of the applicant (`1` for clear, `0` for poor history).\n",
    "- `Loan_Status`: Target variable; loan approval status (`1` for approved, `0` for not approved).\n",
    "\n",
    "## Your Challenge\n",
    "Build a logistic regression model to predict whether a loan application will be approved (`Loan_Status`).\n",
    "\n",
    "## Why Logistic Regression?\n",
    "Logistic regression is well-suited for this scenario because:\n",
    "1. The target variable (`Loan_Status`) is categorical, making logistic regression ideal for binary classification problems.\n",
    "2. It allows us to assess the impact of various input features on the probability of loan approval.\n",
    "3. It provides interpretable coefficients, enabling better understanding and communication of insights.\n",
    "\n",
    "## Identifying Input and Target Variables\n",
    "- **Input Variables**: `Gender`, `Married`, `Dependents`, `Education`, `Self_Employed`, `ApplicantIncome`, `CoapplicantIncome`, `LoanAmount`, `Loan_Amount_Term`, `Credit_History`.\n",
    "- **Target Variable**: `Loan_Status`.\n",
    "\n"
   ]
  },
  {
   "cell_type": "markdown",
   "id": "2e3fb92d-8ef1-4518-b85f-dbc779548d3d",
   "metadata": {},
   "source": [
    "## Step 1: Import Libraries"
   ]
  },
  {
   "cell_type": "code",
   "execution_count": 39,
   "id": "bb2a01f6-2735-4c69-899e-d521746d6ea0",
   "metadata": {},
   "outputs": [],
   "source": [
    "import pandas as pd  # For data manipulation and analysis\n",
    "import numpy as np  # For numerical operations\n",
    "from sklearn.model_selection import train_test_split  # For splitting the dataset\n",
    "from sklearn.linear_model import LogisticRegression  # Logistic regression model\n",
    "from sklearn.metrics import accuracy_score, classification_report, confusion_matrix  # Evaluation metrics"
   ]
  },
  {
   "cell_type": "markdown",
   "id": "f74e2735-4da9-49fe-ab6b-67bd4a0c9c26",
   "metadata": {},
   "source": [
    "## Step 2: Load the Dataset"
   ]
  },
  {
   "cell_type": "code",
   "execution_count": 41,
   "id": "d1252989-1bfd-480d-a771-e17d2a908906",
   "metadata": {},
   "outputs": [
    {
     "name": "stdout",
     "output_type": "stream",
     "text": [
      "    Loan_ID  Gender  Married  Dependents  Education  Self_Employed  \\\n",
      "0  LP001003       1        1           1          1              0   \n",
      "1  LP001005       1        1           0          1              1   \n",
      "2  LP001006       1        1           0          0              0   \n",
      "3  LP001008       1        0           0          1              0   \n",
      "4  LP001013       1        1           0          0              0   \n",
      "\n",
      "   ApplicantIncome  CoapplicantIncome  LoanAmount  Loan_Amount_Term  \\\n",
      "0             4583             1508.0       12800               360   \n",
      "1             3000                0.0        6600               360   \n",
      "2             2583             2358.0       12000               360   \n",
      "3             6000                0.0       14100               360   \n",
      "4             2333             1516.0        9500               360   \n",
      "\n",
      "   Credit_History  Loan_Status  \n",
      "0               1            0  \n",
      "1               1            1  \n",
      "2               1            1  \n",
      "3               1            1  \n",
      "4               1            1  \n"
     ]
    }
   ],
   "source": [
    "# Load the dataset\n",
    "file_path = 'loan_data.csv'\n",
    "data = pd.read_csv(file_path)\n",
    "\n",
    "# Display the first few rows\n",
    "print(data.head())\n"
   ]
  },
  {
   "cell_type": "markdown",
   "id": "df385675-6f9e-471f-8fb0-2b987547f13d",
   "metadata": {},
   "source": [
    "## Step 3: Data Preparation"
   ]
  },
  {
   "cell_type": "code",
   "execution_count": 43,
   "id": "82183444-7692-47aa-a21f-902f7d6a31a7",
   "metadata": {},
   "outputs": [],
   "source": [
    "# Separate input features and target variable\n",
    "X = data[['Gender', 'Married', 'Dependents', 'Education', 'Self_Employed','ApplicantIncome','CoapplicantIncome','LoanAmount','Loan_Amount_Term','Credit_History']] # Input Variables\n",
    "y = data['Loan_Status'] # Target Variable\n",
    "\n",
    "# Split the dataset into training and testing sets\n",
    "X_train, X_test, y_train, y_test = train_test_split(X, y, test_size=0.3, random_state=42)\n"
   ]
  },
  {
   "cell_type": "markdown",
   "id": "83112725-7952-47b5-b482-cc7bedf07cac",
   "metadata": {},
   "source": [
    "## Step 4: Train the Model"
   ]
  },
  {
   "cell_type": "code",
   "execution_count": 45,
   "id": "fc726fff-ea23-4724-b82c-e0c28273a16e",
   "metadata": {},
   "outputs": [
    {
     "name": "stdout",
     "output_type": "stream",
     "text": [
      "Coefficients: [[ 1.08307243e-01  1.73873508e-01 -3.31518171e-02  2.97222957e-01\n",
      "   4.25276371e-01 -5.14464980e-05  1.10292206e-04  4.85393910e-05\n",
      "   4.99770477e-04  3.50806871e+00]]\n",
      "Intercept: [-3.03875858]\n"
     ]
    },
    {
     "name": "stderr",
     "output_type": "stream",
     "text": [
      "C:\\Users\\Admin\\anaconda3\\Lib\\site-packages\\sklearn\\linear_model\\_logistic.py:469: ConvergenceWarning: lbfgs failed to converge (status=1):\n",
      "STOP: TOTAL NO. of ITERATIONS REACHED LIMIT.\n",
      "\n",
      "Increase the number of iterations (max_iter) or scale the data as shown in:\n",
      "    https://scikit-learn.org/stable/modules/preprocessing.html\n",
      "Please also refer to the documentation for alternative solver options:\n",
      "    https://scikit-learn.org/stable/modules/linear_model.html#logistic-regression\n",
      "  n_iter_i = _check_optimize_result(\n"
     ]
    }
   ],
   "source": [
    "# Initialise and train the logistic regression model\n",
    "model = LogisticRegression(max_iter=1000)\n",
    "model.fit(X_train, y_train)\n",
    "\n",
    "# Display coefficients and intercept\n",
    "print(\"Coefficients:\", model.coef_)\n",
    "print(\"Intercept:\", model.intercept_)"
   ]
  },
  {
   "cell_type": "markdown",
   "id": "09e35481-66b1-4ead-94ac-8079de2d3586",
   "metadata": {},
   "source": [
    "## Step 5: Evaluate the Model"
   ]
  },
  {
   "cell_type": "code",
   "execution_count": 47,
   "id": "28f4c979-8d0c-475f-a479-8957a6986d7b",
   "metadata": {},
   "outputs": [
    {
     "name": "stdout",
     "output_type": "stream",
     "text": [
      "Accuracy: 0.80\n",
      "Confusion Matrix:\n",
      " [[14 16]\n",
      " [ 3 60]]\n",
      "Classification Report:\n",
      "               precision    recall  f1-score   support\n",
      "\n",
      "           0       0.82      0.47      0.60        30\n",
      "           1       0.79      0.95      0.86        63\n",
      "\n",
      "    accuracy                           0.80        93\n",
      "   macro avg       0.81      0.71      0.73        93\n",
      "weighted avg       0.80      0.80      0.78        93\n",
      "\n"
     ]
    }
   ],
   "source": [
    "# Make predictions\n",
    "y_pred = model.predict(X_test)\n",
    "\n",
    "# Calculate accuracy\n",
    "accuracy = accuracy_score(y_test, y_pred)\n",
    "print(f\"Accuracy: {accuracy:.2f}\")\n",
    "\n",
    "# Confusion matrix and classification report\n",
    "print(\"Confusion Matrix:\\n\", confusion_matrix(y_test, y_pred))\n",
    "print(\"Classification Report:\\n\", classification_report(y_test, y_pred))"
   ]
  },
  {
   "cell_type": "markdown",
   "id": "7a45259f-58b5-4443-b211-51b07f887992",
   "metadata": {},
   "source": [
    "### Result Interpretation \n",
    "The model has an accuracy of 0.80, which means it correctly predicts whether a loan should be approved or not in 80% of the cases. For every 100 predictions, 80 are accurate, reflecting the model's overall reliability."
   ]
  },
  {
   "cell_type": "markdown",
   "id": "0316bf3d-8dbf-4c32-bca4-a4ae69ba2b87",
   "metadata": {},
   "source": [
    "## Step 6: Make Predictions with New Data"
   ]
  },
  {
   "cell_type": "code",
   "execution_count": 63,
   "id": "fb61b196-ea7c-429b-b5b2-ee01126bc727",
   "metadata": {},
   "outputs": [
    {
     "data": {
      "text/html": [
       "<div>\n",
       "<style scoped>\n",
       "    .dataframe tbody tr th:only-of-type {\n",
       "        vertical-align: middle;\n",
       "    }\n",
       "\n",
       "    .dataframe tbody tr th {\n",
       "        vertical-align: top;\n",
       "    }\n",
       "\n",
       "    .dataframe thead th {\n",
       "        text-align: right;\n",
       "    }\n",
       "</style>\n",
       "<table border=\"1\" class=\"dataframe\">\n",
       "  <thead>\n",
       "    <tr style=\"text-align: right;\">\n",
       "      <th></th>\n",
       "      <th>Gender</th>\n",
       "      <th>Married</th>\n",
       "      <th>Dependents</th>\n",
       "      <th>Education</th>\n",
       "      <th>Self_Employed</th>\n",
       "      <th>ApplicantIncome</th>\n",
       "      <th>CoapplicantIncome</th>\n",
       "      <th>LoanAmount</th>\n",
       "      <th>Loan_Amount_Term</th>\n",
       "      <th>Credit_History</th>\n",
       "    </tr>\n",
       "  </thead>\n",
       "  <tbody>\n",
       "    <tr>\n",
       "      <th>0</th>\n",
       "      <td>1</td>\n",
       "      <td>1</td>\n",
       "      <td>1</td>\n",
       "      <td>0</td>\n",
       "      <td>1</td>\n",
       "      <td>10000</td>\n",
       "      <td>2000</td>\n",
       "      <td>14000</td>\n",
       "      <td>360</td>\n",
       "      <td>1</td>\n",
       "    </tr>\n",
       "    <tr>\n",
       "      <th>1</th>\n",
       "      <td>0</td>\n",
       "      <td>0</td>\n",
       "      <td>0</td>\n",
       "      <td>1</td>\n",
       "      <td>0</td>\n",
       "      <td>8000</td>\n",
       "      <td>8</td>\n",
       "      <td>3000</td>\n",
       "      <td>120</td>\n",
       "      <td>0</td>\n",
       "    </tr>\n",
       "  </tbody>\n",
       "</table>\n",
       "</div>"
      ],
      "text/plain": [
       "   Gender  Married  Dependents  Education  Self_Employed  ApplicantIncome  \\\n",
       "0       1        1           1          0              1            10000   \n",
       "1       0        0           0          1              0             8000   \n",
       "\n",
       "   CoapplicantIncome  LoanAmount  Loan_Amount_Term  Credit_History  \n",
       "0               2000       14000               360               1  \n",
       "1                  8        3000               120               0  "
      ]
     },
     "execution_count": 63,
     "metadata": {},
     "output_type": "execute_result"
    }
   ],
   "source": [
    "# Example new data for prediction\n",
    "new_data = pd.DataFrame({\n",
    "    'Gender': [1, 0],\n",
    "    'Married': [1, 0],\n",
    "    'Dependents': [1, 0],\n",
    "    'Education': [0, 1],\n",
    "    'Self_Employed': [1, 0],\n",
    "    'ApplicantIncome': [10000, 8000],\n",
    "    'CoapplicantIncome': [2000, 8],\n",
    "    'LoanAmount': [14000, 3000],\n",
    "    'Loan_Amount_Term': [360, 120],\n",
    "    'Credit_History':[1,0],\n",
    "})\n",
    "new_data\n"
   ]
  },
  {
   "cell_type": "markdown",
   "id": "df9ad7e7-bc4a-442f-9692-11d851f2f40e",
   "metadata": {},
   "source": [
    "- **Individual 1 (Row 1):**  \n",
    "  - **Gender:** Male (1)  \n",
    "  - **Married:** Yes (1)  \n",
    "  - **Dependents:** 1 dependent  \n",
    "  - **Education:** Not Graduate (0)  \n",
    "  - **Self Employed:** Yes (1)  \n",
    "  - **Applicant Income:** 10,000  \n",
    "  - **Coapplicant Income:** 2,000  \n",
    "  - **Loan Amount:** 14,000  \n",
    "  - **Loan Amount Term:** 360 months  \n",
    "  - **Credit History:** Clear (1)  "
   ]
  },
  {
   "cell_type": "markdown",
   "id": "a6cdd6f2-b5fc-4928-a008-83a74ce18a74",
   "metadata": {},
   "source": [
    "\n",
    "- **Individual 2 (Row 2):**  \n",
    "  - **Gender:** Female (0)  \n",
    "  - **Married:** No (0)  \n",
    "  - **Dependents:** No dependents (0)  \n",
    "  - **Education:** Graduate (1)  \n",
    "  - **Self Employed:** No (0)  \n",
    "  - **Applicant Income:** 8,000  \n",
    "  - **Coapplicant Income:** 8  \n",
    "  - **Loan Amount:** 3,000  \n",
    "  - **Loan Amount Term:** 120 months  \n",
    "  - **Credit History:** Poor (0)  \n"
   ]
  },
  {
   "cell_type": "code",
   "execution_count": 65,
   "id": "89ad57a4-2fc5-465b-baca-59a95ae2f0a9",
   "metadata": {},
   "outputs": [
    {
     "name": "stdout",
     "output_type": "stream",
     "text": [
      "Predicted Classes: [1 0]\n"
     ]
    }
   ],
   "source": [
    "# Predict the loan status for new data\n",
    "predicted_classes = model.predict(new_data)\n",
    "print(\"Predicted Classes:\", predicted_classes)"
   ]
  },
  {
   "cell_type": "markdown",
   "id": "800eee15-f02b-4930-9082-857688ab15c9",
   "metadata": {},
   "source": [
    "## What's Next?"
   ]
  },
  {
   "cell_type": "markdown",
   "id": "f85336ed-1d30-4932-be07-5b114da1fa55",
   "metadata": {},
   "source": [
    "Up next, we will learn about Decision Trees, a powerful and intuitive algorithm used for both classification and regression tasks. Stay tuned! "
   ]
  }
 ],
 "metadata": {
  "kernelspec": {
   "display_name": "Python 3 (ipykernel)",
   "language": "python",
   "name": "python3"
  },
  "language_info": {
   "codemirror_mode": {
    "name": "ipython",
    "version": 3
   },
   "file_extension": ".py",
   "mimetype": "text/x-python",
   "name": "python",
   "nbconvert_exporter": "python",
   "pygments_lexer": "ipython3",
   "version": "3.12.7"
  }
 },
 "nbformat": 4,
 "nbformat_minor": 5
}
